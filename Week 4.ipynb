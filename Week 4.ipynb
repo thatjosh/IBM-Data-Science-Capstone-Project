{
    "cells": [
        {
            "cell_type": "markdown",
            "metadata": {
                "collapsed": true
            },
            "source": "# IBM Data Science Capstone Project "
        },
        {
            "cell_type": "code",
            "execution_count": null,
            "metadata": {},
            "outputs": [],
            "source": "# import relevant libraries\n\n"
        },
        {
            "cell_type": "code",
            "execution_count": 1,
            "metadata": {},
            "outputs": [],
            "source": "# import data set\n    \n    # neighborhood location data - Wiki\n        # webscraping\n    \n    # median income data (by neighborhood) - demand - OpenGov\n        # CSV\n    \n    # population size data (by neighborhood) - demand - OpenGov\n        # CSV\n    \n    # restaurants and cafes nearby - supply - forsquare\n        # forsquare\n"
        },
        {
            "cell_type": "code",
            "execution_count": null,
            "metadata": {},
            "outputs": [],
            "source": "# clean data set\n    \n"
        },
        {
            "cell_type": "code",
            "execution_count": null,
            "metadata": {},
            "outputs": [],
            "source": "# exploratory data analysis\n    \n    # location data mapping via Folium\n    \n    # median income bar chart\n    \n    # population size bar chart\n    \n    # restaurants and cafes\n    \n    # append tables\n    \n    # normalise values"
        },
        {
            "cell_type": "code",
            "execution_count": null,
            "metadata": {},
            "outputs": [],
            "source": "# k-means clustering\n"
        }
    ],
    "metadata": {
        "kernelspec": {
            "display_name": "Python 3.7",
            "language": "python",
            "name": "python3"
        },
        "language_info": {
            "codemirror_mode": {
                "name": "ipython",
                "version": 3
            },
            "file_extension": ".py",
            "mimetype": "text/x-python",
            "name": "python",
            "nbconvert_exporter": "python",
            "pygments_lexer": "ipython3",
            "version": "3.7.10"
        }
    },
    "nbformat": 4,
    "nbformat_minor": 1
}